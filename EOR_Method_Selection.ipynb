{
 "cells": [
  {
   "cell_type": "code",
   "execution_count": 29,
   "id": "ce3ecf07-0e71-4ff3-a4df-0aa8c1f9743c",
   "metadata": {},
   "outputs": [],
   "source": [
    "def EOR_Mis_Iny(viscosidad, api, espesor, profundidad, saturacion_aceite, permeabilidad, temperatura, porosidad, inclinacion):\n",
    "    recs=0\n",
    "    if viscosidad < 0.4 and api > 35 and profundidad > 6000 and saturacion_aceite > 40 and porosidad > 10 and inclinacion > 15:\n",
    "        print('Se recomienda la Inyección de Nitrógeno')\n",
    "        recs +=1\n",
    "    if viscosidad < 1 and api > 24 and profundidad > 3600 and saturacion_aceite > 30 and permeabilidad < 5000 and temperatura < 153 and porosidad > 4 and inclinacion > 15:\n",
    "        print('Se recomienda la Inyección de Gases Hidrocarburos') \n",
    "        recs +=1\n",
    "    if viscosidad < 2 and api > 30 and profundidad > 4100 and saturacion_aceite > 35 and permeabilidad < 500 and temperatura < 83 and porosidad > 10 and inclinacion > 15:\n",
    "        print('Se recomienda la Inyección de Dióxido de Carbono')\n",
    "        recs +=1\n",
    "    if viscosidad < 2 and api > 30 and api < 45 and espesor < 100 and saturacion_aceite > 35 and permeabilidad < 30 and porosidad > 20 and inclinacion > 15:\n",
    "        print('Se recomienda la Inyección de Agua y Gas Alternados(WAG)')\n",
    "        recs +=1\n",
    "    if recs == 0:\n",
    "        print('No se recomienda la inyección de gases miscibles')"
   ]
  },
  {
   "cell_type": "code",
   "execution_count": 48,
   "id": "9e9c5a89-2b00-4118-9f60-230059f06a01",
   "metadata": {},
   "outputs": [
    {
     "name": "stdout",
     "output_type": "stream",
     "text": [
      "Se recomienda la Inyección de Gases Hidrocarburos\n"
     ]
    }
   ],
   "source": [
    "EOR_Mis_Iny(0.9,35,263,5312,42,107,110,5,16)"
   ]
  },
  {
   "cell_type": "code",
   "execution_count": 84,
   "id": "91588692-87ce-4f7f-9745-8d0270a85973",
   "metadata": {},
   "outputs": [],
   "source": [
    "def EOR_Term(viscosidad, api, espesor, profundidad, saturacion_aceite, transmisibilidad, permeabilidad, porosidad, inclinacion,formacion):\n",
    "    recs=0\n",
    "    if formacion == 'carbonatos':\n",
    "        if viscosidad > 0.4 and viscosidad < 3000 and api < 38 and espesor > 50 and profundidad < 3000 and saturacion_aceite > 35 and transmisibilidad > 100 and permeabilidad > 100 and porosidad > 25 and inclinacion > 15:\n",
    "            print('Se recomienda la Inyección de Vapor Cíclica - Huff and Puff')\n",
    "            recs +=1    \n",
    "        if viscosidad > 1 and viscosidad < 1000 and api > 10 and espesor > 10 and profundidad < 500 and saturacion_aceite > 50 and transmisibilidad > 20 and permeabilidad > 90 and porosidad > 18:\n",
    "            print('Se recomienda la Combustión In-Situ')\n",
    "            recs +=1\n",
    "    if formacion != 'carbonatos':\n",
    "        if viscosidad > 0.4 and viscosidad < 3000 and api < 38 and espesor > 50 and profundidad < 3000 and saturacion_aceite > 35 and transmisibilidad > 100 and permeabilidad > 100 and porosidad > 25 and inclinacion > 15:\n",
    "            print('Se recomienda la Inyección de Vapor Cíclica - Huff and Puff')\n",
    "            recs +=1    \n",
    "        if viscosidad > 1 and viscosidad < 1000 and api > 10 and espesor > 10 and profundidad < 500 and saturacion_aceite > 50 and transmisibilidad > 20 and permeabilidad > 90 and porosidad > 18:\n",
    "            print('Se recomienda la Combustión In-Situ')\n",
    "            recs +=1\n",
    "        if viscosidad > 2000 and api < 20 and espesor > 50 and profundidad < 4500 and saturacion_aceite > 50 and permeabilidad > 1000 and porosidad > 25 and inclinacion > 15:\n",
    "            print('Se recomienda el Drene Gravitacional Asisitido por Vapor - SAGD')\n",
    "            recs +=1    \n",
    "        if viscosidad > 20 and viscosidad < 100000 and api < 25 and espesor > 20 and profundidad > 300 and profundidad < 5000  and saturacion_aceite > 40 and transmisibilidad > 100 and permeabilidad > 200 and porosidad > 18:\n",
    "            print('Se recomienda la Inyección de Vapor Continua')\n",
    "            recs +=1\n",
    "    if recs == 0:\n",
    "        print('No se recomienda la aplicación de ningún método térmico')"
   ]
  },
  {
   "cell_type": "code",
   "execution_count": 90,
   "id": "c0753cbd-1897-4404-90e8-8665df0b867e",
   "metadata": {},
   "outputs": [
    {
     "name": "stdout",
     "output_type": "stream",
     "text": [
      "Se recomienda el Drene Gravitacional Asisitido por Vapor - SAGD\n",
      "Se recomienda la Inyección de Vapor Continua\n"
     ]
    }
   ],
   "source": [
    "EOR_Term(5000,12,70,1200,60,150,1100,30,20,formacion='arenas')"
   ]
  },
  {
   "cell_type": "code",
   "execution_count": 93,
   "id": "c2bbb528-8781-42b2-a653-ccc11c192808",
   "metadata": {},
   "outputs": [],
   "source": [
    "def EOR_Quim(viscosidad, api, espesor, profundidad, saturacion_aceite, permeabilidad, temperatura, porosidad, ppm_magnesio, formacion):\n",
    "    recs=0\n",
    "    if formacion == 'carbonatos':\n",
    "        if viscosidad < 100 and api > 13 and profundidad < 5500 and saturacion_aceite > 50 and permeabilidad > 250 and temperatura < 200 and porosidad > 20:\n",
    "            print('Se recomienda la Inyección de Polímeros')\n",
    "            recs +=1 \n",
    "    if formacion != 'carbonatos':\n",
    "        if viscosidad < 100 and api > 13 and profundidad < 5500 and saturacion_aceite > 50 and permeabilidad > 250 and temperatura < 200 and porosidad > 20:\n",
    "            print('Se recomienda la Inyección de Polímeros')\n",
    "            recs +=1\n",
    "        if viscosidad < 35 and api > 20 and espesor > 10 and profundidad < 9000 and saturacion_aceite > 30 and permeabilidad > 10 and temperatura < 175 and porosidad > 20 and ppm_magnesio < 500:\n",
    "            print('Se recomienda la Inyección de Surfactantes')\n",
    "            recs +=1  \n",
    "        if viscosidad < 200 and api > 13 and api < 35 and profundidad < 9000 and saturacion_aceite > 35 and permeabilidad > 20 and temperatura < 200 and porosidad > 20 and ppm_magnesio == 0:\n",
    "            print('Se recomienda la Inyección Alcalina o Cáustica')\n",
    "            recs +=1\n",
    "    if recs == 0:\n",
    "        print('No se recomienda la aplicación de ningún método térmico')            "
   ]
  },
  {
   "cell_type": "code",
   "execution_count": 103,
   "id": "ef243faa-6574-462b-8d5d-8219c7932e10",
   "metadata": {},
   "outputs": [
    {
     "name": "stdout",
     "output_type": "stream",
     "text": [
      "Se recomienda la Inyección Alcalina o Cáustica\n"
     ]
    }
   ],
   "source": [
    "EOR_Quim(15,15,100,2500,36,25,150,24,0,formacion='areniscas')"
   ]
  },
  {
   "cell_type": "code",
   "execution_count": null,
   "id": "f3f68759-7cce-4ab3-99c0-3b21db25d778",
   "metadata": {},
   "outputs": [],
   "source": []
  }
 ],
 "metadata": {
  "kernelspec": {
   "display_name": "Python 3 (ipykernel)",
   "language": "python",
   "name": "python3"
  },
  "language_info": {
   "codemirror_mode": {
    "name": "ipython",
    "version": 3
   },
   "file_extension": ".py",
   "mimetype": "text/x-python",
   "name": "python",
   "nbconvert_exporter": "python",
   "pygments_lexer": "ipython3",
   "version": "3.12.1"
  }
 },
 "nbformat": 4,
 "nbformat_minor": 5
}
